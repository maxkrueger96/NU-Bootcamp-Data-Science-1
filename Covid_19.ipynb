{
 "cells": [
  {
   "cell_type": "markdown",
   "metadata": {},
   "source": [
    "## Import Dependencies"
   ]
  },
  {
   "cell_type": "code",
   "execution_count": 1,
   "metadata": {},
   "outputs": [],
   "source": [
    "import os\n",
    "import requests\n",
    "import json\n",
    "import pandas as pd\n",
    "import matplotlib.pyplot as plt\n",
    "import numpy as np\n",
    "from pprint import pprint"
   ]
  },
  {
   "cell_type": "markdown",
   "metadata": {},
   "source": [
    "## All countries basic information"
   ]
  },
  {
   "cell_type": "code",
   "execution_count": 2,
   "metadata": {
    "scrolled": true
   },
   "outputs": [
    {
     "name": "stdout",
     "output_type": "stream",
     "text": [
      "--2021-08-03 23:49:00--  https://raw.githubusercontent.com/M-Media-Group/country-json/master/src/countries-master.json\n",
      "Resolving raw.githubusercontent.com (raw.githubusercontent.com)... 185.199.110.133, 185.199.111.133, 185.199.108.133, ...\n",
      "Connecting to raw.githubusercontent.com (raw.githubusercontent.com)|185.199.110.133|:443... connected.\n",
      "HTTP request sent, awaiting response... 200 OK\n",
      "Length: 73528 (72K) [text/plain]\n",
      "Saving to: ‘countries-master.json.2’\n",
      "\n",
      "countries-master.js 100%[===================>]  71.80K  --.-KB/s    in 0.03s   \n",
      "\n",
      "2021-08-03 23:49:00 (2.15 MB/s) - ‘countries-master.json.2’ saved [73528/73528]\n",
      "\n"
     ]
    }
   ],
   "source": [
    "!wget https://raw.githubusercontent.com/M-Media-Group/country-json/master/src/countries-master.json"
   ]
  },
  {
   "cell_type": "code",
   "execution_count": 3,
   "metadata": {},
   "outputs": [],
   "source": [
    "with open('countries-master.json','r') as f:\n",
    "    countries_data = json.load(f)"
   ]
  },
  {
   "cell_type": "code",
   "execution_count": 4,
   "metadata": {
    "scrolled": true
   },
   "outputs": [
    {
     "name": "stdout",
     "output_type": "stream",
     "text": [
      "There are 243 entries.\n"
     ]
    },
    {
     "data": {
      "text/html": [
       "<div>\n",
       "<style scoped>\n",
       "    .dataframe tbody tr th:only-of-type {\n",
       "        vertical-align: middle;\n",
       "    }\n",
       "\n",
       "    .dataframe tbody tr th {\n",
       "        vertical-align: top;\n",
       "    }\n",
       "\n",
       "    .dataframe thead th {\n",
       "        text-align: right;\n",
       "    }\n",
       "</style>\n",
       "<table border=\"1\" class=\"dataframe\">\n",
       "  <thead>\n",
       "    <tr style=\"text-align: right;\">\n",
       "      <th></th>\n",
       "      <th>country</th>\n",
       "      <th>population</th>\n",
       "      <th>sq_km_area</th>\n",
       "      <th>life_expectancy</th>\n",
       "      <th>elevation_in_meters</th>\n",
       "      <th>continent</th>\n",
       "      <th>abbreviation</th>\n",
       "      <th>location</th>\n",
       "      <th>iso</th>\n",
       "      <th>capital_city</th>\n",
       "    </tr>\n",
       "  </thead>\n",
       "  <tbody>\n",
       "    <tr>\n",
       "      <th>0</th>\n",
       "      <td>Afghanistan</td>\n",
       "      <td>35530081</td>\n",
       "      <td>652090.0</td>\n",
       "      <td>45.9</td>\n",
       "      <td>None</td>\n",
       "      <td>Asia</td>\n",
       "      <td>AF</td>\n",
       "      <td>Southern and Central Asia</td>\n",
       "      <td>4</td>\n",
       "      <td>Kabul</td>\n",
       "    </tr>\n",
       "    <tr>\n",
       "      <th>1</th>\n",
       "      <td>Albania</td>\n",
       "      <td>2930187</td>\n",
       "      <td>28748.0</td>\n",
       "      <td>71.6</td>\n",
       "      <td>None</td>\n",
       "      <td>Europe</td>\n",
       "      <td>AL</td>\n",
       "      <td>Southern Europe</td>\n",
       "      <td>8</td>\n",
       "      <td>Tirana</td>\n",
       "    </tr>\n",
       "    <tr>\n",
       "      <th>2</th>\n",
       "      <td>Algeria</td>\n",
       "      <td>41318142</td>\n",
       "      <td>2381741.0</td>\n",
       "      <td>69.7</td>\n",
       "      <td>800</td>\n",
       "      <td>Africa</td>\n",
       "      <td>DZ</td>\n",
       "      <td>Northern Africa</td>\n",
       "      <td>12</td>\n",
       "      <td>Alger</td>\n",
       "    </tr>\n",
       "    <tr>\n",
       "      <th>3</th>\n",
       "      <td>American Samoa</td>\n",
       "      <td>55641</td>\n",
       "      <td>199.0</td>\n",
       "      <td>75.1</td>\n",
       "      <td>None</td>\n",
       "      <td>Oceania</td>\n",
       "      <td>AS</td>\n",
       "      <td>Polynesia</td>\n",
       "      <td>16</td>\n",
       "      <td>Fagatogo</td>\n",
       "    </tr>\n",
       "    <tr>\n",
       "      <th>4</th>\n",
       "      <td>Andorra</td>\n",
       "      <td>76965</td>\n",
       "      <td>468.0</td>\n",
       "      <td>83.5</td>\n",
       "      <td>1,996</td>\n",
       "      <td>Europe</td>\n",
       "      <td>AD</td>\n",
       "      <td>Southern Europe</td>\n",
       "      <td>20</td>\n",
       "      <td>Andorra la Vella</td>\n",
       "    </tr>\n",
       "  </tbody>\n",
       "</table>\n",
       "</div>"
      ],
      "text/plain": [
       "          country population  sq_km_area life_expectancy elevation_in_meters  \\\n",
       "0     Afghanistan   35530081    652090.0            45.9                None   \n",
       "1         Albania    2930187     28748.0            71.6                None   \n",
       "2         Algeria   41318142   2381741.0            69.7                 800   \n",
       "3  American Samoa      55641       199.0            75.1                None   \n",
       "4         Andorra      76965       468.0            83.5               1,996   \n",
       "\n",
       "  continent abbreviation                   location iso      capital_city  \n",
       "0      Asia           AF  Southern and Central Asia   4             Kabul  \n",
       "1    Europe           AL            Southern Europe   8            Tirana  \n",
       "2    Africa           DZ            Northern Africa  12             Alger  \n",
       "3   Oceania           AS                  Polynesia  16          Fagatogo  \n",
       "4    Europe           AD            Southern Europe  20  Andorra la Vella  "
      ]
     },
     "execution_count": 4,
     "metadata": {},
     "output_type": "execute_result"
    }
   ],
   "source": [
    "countries_df = pd.DataFrame(countries_data)\n",
    "print(f'There are {len(countries_df)} entries.')\n",
    "countries_df.head()"
   ]
  },
  {
   "cell_type": "code",
   "execution_count": 5,
   "metadata": {},
   "outputs": [],
   "source": [
    "countries_df.to_csv('countries_df.csv')"
   ]
  },
  {
   "cell_type": "markdown",
   "metadata": {},
   "source": [
    "## Confirmed cases and deaths in each country worldwide (updated hourly)"
   ]
  },
  {
   "cell_type": "code",
   "execution_count": 6,
   "metadata": {},
   "outputs": [],
   "source": [
    "case_base_url = 'https://covid-api.mmediagroup.fr/v1/cases'\n",
    "case_data = requests.get(case_base_url).json()\n",
    "#pprint(case_data)"
   ]
  },
  {
   "cell_type": "code",
   "execution_count": 7,
   "metadata": {},
   "outputs": [
    {
     "name": "stdout",
     "output_type": "stream",
     "text": [
      "There are 196 entries.\n"
     ]
    }
   ],
   "source": [
    "print(f'There are {len(case_data)} entries.')"
   ]
  },
  {
   "cell_type": "markdown",
   "metadata": {},
   "source": [
    "## Extract data from API"
   ]
  },
  {
   "cell_type": "code",
   "execution_count": 8,
   "metadata": {},
   "outputs": [],
   "source": [
    "country = []\n",
    "confirmed = []\n",
    "deaths = []"
   ]
  },
  {
   "cell_type": "code",
   "execution_count": 9,
   "metadata": {},
   "outputs": [],
   "source": [
    "for key,value in case_data.items():\n",
    "    country.append(key)\n",
    "    try:\n",
    "        confirmed.append(value['All']['confirmed'])\n",
    "    except KeyError:\n",
    "        confirmed.append(np.nan)\n",
    "    try:\n",
    "        deaths.append(value['All']['deaths'])\n",
    "    except KeyError:\n",
    "        deaths.append(np.nan)"
   ]
  },
  {
   "cell_type": "code",
   "execution_count": 10,
   "metadata": {},
   "outputs": [
    {
     "data": {
      "text/html": [
       "<div>\n",
       "<style scoped>\n",
       "    .dataframe tbody tr th:only-of-type {\n",
       "        vertical-align: middle;\n",
       "    }\n",
       "\n",
       "    .dataframe tbody tr th {\n",
       "        vertical-align: top;\n",
       "    }\n",
       "\n",
       "    .dataframe thead th {\n",
       "        text-align: right;\n",
       "    }\n",
       "</style>\n",
       "<table border=\"1\" class=\"dataframe\">\n",
       "  <thead>\n",
       "    <tr style=\"text-align: right;\">\n",
       "      <th></th>\n",
       "      <th>country</th>\n",
       "      <th>confirmed</th>\n",
       "      <th>deaths</th>\n",
       "    </tr>\n",
       "  </thead>\n",
       "  <tbody>\n",
       "    <tr>\n",
       "      <th>0</th>\n",
       "      <td>Afghanistan</td>\n",
       "      <td>148572</td>\n",
       "      <td>6804</td>\n",
       "    </tr>\n",
       "    <tr>\n",
       "      <th>1</th>\n",
       "      <td>Albania</td>\n",
       "      <td>133211</td>\n",
       "      <td>2457</td>\n",
       "    </tr>\n",
       "    <tr>\n",
       "      <th>2</th>\n",
       "      <td>Algeria</td>\n",
       "      <td>175229</td>\n",
       "      <td>4370</td>\n",
       "    </tr>\n",
       "    <tr>\n",
       "      <th>3</th>\n",
       "      <td>Andorra</td>\n",
       "      <td>14766</td>\n",
       "      <td>128</td>\n",
       "    </tr>\n",
       "    <tr>\n",
       "      <th>4</th>\n",
       "      <td>Angola</td>\n",
       "      <td>43070</td>\n",
       "      <td>1022</td>\n",
       "    </tr>\n",
       "  </tbody>\n",
       "</table>\n",
       "</div>"
      ],
      "text/plain": [
       "       country  confirmed  deaths\n",
       "0  Afghanistan     148572    6804\n",
       "1      Albania     133211    2457\n",
       "2      Algeria     175229    4370\n",
       "3      Andorra      14766     128\n",
       "4       Angola      43070    1022"
      ]
     },
     "execution_count": 10,
     "metadata": {},
     "output_type": "execute_result"
    }
   ],
   "source": [
    "case_df = pd.DataFrame()\n",
    "case_df['country'] = country\n",
    "case_df['confirmed'] = confirmed\n",
    "case_df['deaths'] = deaths\n",
    "case_df.head()"
   ]
  },
  {
   "cell_type": "code",
   "execution_count": 11,
   "metadata": {},
   "outputs": [],
   "source": [
    "country_case_df = case_df.merge(countries_df,on='country')"
   ]
  },
  {
   "cell_type": "code",
   "execution_count": 13,
   "metadata": {},
   "outputs": [
    {
     "name": "stdout",
     "output_type": "stream",
     "text": [
      "There are 180 entries.\n"
     ]
    },
    {
     "data": {
      "text/html": [
       "<div>\n",
       "<style scoped>\n",
       "    .dataframe tbody tr th:only-of-type {\n",
       "        vertical-align: middle;\n",
       "    }\n",
       "\n",
       "    .dataframe tbody tr th {\n",
       "        vertical-align: top;\n",
       "    }\n",
       "\n",
       "    .dataframe thead th {\n",
       "        text-align: right;\n",
       "    }\n",
       "</style>\n",
       "<table border=\"1\" class=\"dataframe\">\n",
       "  <thead>\n",
       "    <tr style=\"text-align: right;\">\n",
       "      <th></th>\n",
       "      <th>country</th>\n",
       "      <th>confirmed</th>\n",
       "      <th>deaths</th>\n",
       "      <th>population</th>\n",
       "      <th>sq_km_area</th>\n",
       "      <th>life_expectancy</th>\n",
       "      <th>elevation_in_meters</th>\n",
       "      <th>continent</th>\n",
       "      <th>abbreviation</th>\n",
       "      <th>location</th>\n",
       "      <th>iso</th>\n",
       "      <th>capital_city</th>\n",
       "    </tr>\n",
       "  </thead>\n",
       "  <tbody>\n",
       "    <tr>\n",
       "      <th>0</th>\n",
       "      <td>Afghanistan</td>\n",
       "      <td>148572</td>\n",
       "      <td>6804</td>\n",
       "      <td>35530081</td>\n",
       "      <td>652090.0</td>\n",
       "      <td>45.9</td>\n",
       "      <td>None</td>\n",
       "      <td>Asia</td>\n",
       "      <td>AF</td>\n",
       "      <td>Southern and Central Asia</td>\n",
       "      <td>4</td>\n",
       "      <td>Kabul</td>\n",
       "    </tr>\n",
       "    <tr>\n",
       "      <th>1</th>\n",
       "      <td>Albania</td>\n",
       "      <td>133211</td>\n",
       "      <td>2457</td>\n",
       "      <td>2930187</td>\n",
       "      <td>28748.0</td>\n",
       "      <td>71.6</td>\n",
       "      <td>None</td>\n",
       "      <td>Europe</td>\n",
       "      <td>AL</td>\n",
       "      <td>Southern Europe</td>\n",
       "      <td>8</td>\n",
       "      <td>Tirana</td>\n",
       "    </tr>\n",
       "    <tr>\n",
       "      <th>2</th>\n",
       "      <td>Algeria</td>\n",
       "      <td>175229</td>\n",
       "      <td>4370</td>\n",
       "      <td>41318142</td>\n",
       "      <td>2381741.0</td>\n",
       "      <td>69.7</td>\n",
       "      <td>800</td>\n",
       "      <td>Africa</td>\n",
       "      <td>DZ</td>\n",
       "      <td>Northern Africa</td>\n",
       "      <td>12</td>\n",
       "      <td>Alger</td>\n",
       "    </tr>\n",
       "    <tr>\n",
       "      <th>3</th>\n",
       "      <td>Andorra</td>\n",
       "      <td>14766</td>\n",
       "      <td>128</td>\n",
       "      <td>76965</td>\n",
       "      <td>468.0</td>\n",
       "      <td>83.5</td>\n",
       "      <td>1,996</td>\n",
       "      <td>Europe</td>\n",
       "      <td>AD</td>\n",
       "      <td>Southern Europe</td>\n",
       "      <td>20</td>\n",
       "      <td>Andorra la Vella</td>\n",
       "    </tr>\n",
       "    <tr>\n",
       "      <th>4</th>\n",
       "      <td>Angola</td>\n",
       "      <td>43070</td>\n",
       "      <td>1022</td>\n",
       "      <td>29784193</td>\n",
       "      <td>1246700.0</td>\n",
       "      <td>38.3</td>\n",
       "      <td>1,112</td>\n",
       "      <td>Africa</td>\n",
       "      <td>AO</td>\n",
       "      <td>Central Africa</td>\n",
       "      <td>24</td>\n",
       "      <td>Luanda</td>\n",
       "    </tr>\n",
       "  </tbody>\n",
       "</table>\n",
       "</div>"
      ],
      "text/plain": [
       "       country  confirmed  deaths population  sq_km_area life_expectancy  \\\n",
       "0  Afghanistan     148572    6804   35530081    652090.0            45.9   \n",
       "1      Albania     133211    2457    2930187     28748.0            71.6   \n",
       "2      Algeria     175229    4370   41318142   2381741.0            69.7   \n",
       "3      Andorra      14766     128      76965       468.0            83.5   \n",
       "4       Angola      43070    1022   29784193   1246700.0            38.3   \n",
       "\n",
       "  elevation_in_meters continent abbreviation                   location iso  \\\n",
       "0                None      Asia           AF  Southern and Central Asia   4   \n",
       "1                None    Europe           AL            Southern Europe   8   \n",
       "2                 800    Africa           DZ            Northern Africa  12   \n",
       "3               1,996    Europe           AD            Southern Europe  20   \n",
       "4               1,112    Africa           AO             Central Africa  24   \n",
       "\n",
       "       capital_city  \n",
       "0             Kabul  \n",
       "1            Tirana  \n",
       "2             Alger  \n",
       "3  Andorra la Vella  \n",
       "4            Luanda  "
      ]
     },
     "execution_count": 13,
     "metadata": {},
     "output_type": "execute_result"
    }
   ],
   "source": [
    "print(f'There are {len(country_case_df)} entries.')\n",
    "country_case_df.head()"
   ]
  },
  {
   "cell_type": "code",
   "execution_count": 14,
   "metadata": {},
   "outputs": [],
   "source": [
    "country_case_df['population'] = country_case_df['population'].astype(int)\n",
    "country_case_df['sq_km_area'] = country_case_df['sq_km_area'].astype(float)\n",
    "country_case_df['life_expectancy'] = country_case_df['life_expectancy'].astype(float)"
   ]
  },
  {
   "cell_type": "code",
   "execution_count": 15,
   "metadata": {},
   "outputs": [
    {
     "data": {
      "text/plain": [
       "country                 object\n",
       "confirmed                int64\n",
       "deaths                   int64\n",
       "population               int64\n",
       "sq_km_area             float64\n",
       "life_expectancy        float64\n",
       "elevation_in_meters     object\n",
       "continent               object\n",
       "abbreviation            object\n",
       "location                object\n",
       "iso                     object\n",
       "capital_city            object\n",
       "dtype: object"
      ]
     },
     "execution_count": 15,
     "metadata": {},
     "output_type": "execute_result"
    }
   ],
   "source": [
    "country_case_df.dtypes"
   ]
  },
  {
   "cell_type": "code",
   "execution_count": 16,
   "metadata": {},
   "outputs": [],
   "source": [
    "country_case_df['percentage_confirmed_%'] = country_case_df['confirmed']/country_case_df['population'] * 100\n",
    "country_case_df['percentage_deaths_%'] = country_case_df['deaths']/country_case_df['population'] * 100"
   ]
  },
  {
   "cell_type": "code",
   "execution_count": 17,
   "metadata": {
    "scrolled": true
   },
   "outputs": [
    {
     "data": {
      "text/html": [
       "<div>\n",
       "<style scoped>\n",
       "    .dataframe tbody tr th:only-of-type {\n",
       "        vertical-align: middle;\n",
       "    }\n",
       "\n",
       "    .dataframe tbody tr th {\n",
       "        vertical-align: top;\n",
       "    }\n",
       "\n",
       "    .dataframe thead th {\n",
       "        text-align: right;\n",
       "    }\n",
       "</style>\n",
       "<table border=\"1\" class=\"dataframe\">\n",
       "  <thead>\n",
       "    <tr style=\"text-align: right;\">\n",
       "      <th></th>\n",
       "      <th>country</th>\n",
       "      <th>confirmed</th>\n",
       "      <th>deaths</th>\n",
       "      <th>population</th>\n",
       "      <th>sq_km_area</th>\n",
       "      <th>life_expectancy</th>\n",
       "      <th>elevation_in_meters</th>\n",
       "      <th>continent</th>\n",
       "      <th>abbreviation</th>\n",
       "      <th>location</th>\n",
       "      <th>iso</th>\n",
       "      <th>capital_city</th>\n",
       "      <th>percentage_confirmed_%</th>\n",
       "      <th>percentage_deaths_%</th>\n",
       "    </tr>\n",
       "  </thead>\n",
       "  <tbody>\n",
       "    <tr>\n",
       "      <th>0</th>\n",
       "      <td>Afghanistan</td>\n",
       "      <td>148572</td>\n",
       "      <td>6804</td>\n",
       "      <td>35530081</td>\n",
       "      <td>652090.0</td>\n",
       "      <td>45.9</td>\n",
       "      <td>None</td>\n",
       "      <td>Asia</td>\n",
       "      <td>AF</td>\n",
       "      <td>Southern and Central Asia</td>\n",
       "      <td>4</td>\n",
       "      <td>Kabul</td>\n",
       "      <td>0.418158</td>\n",
       "      <td>0.019150</td>\n",
       "    </tr>\n",
       "    <tr>\n",
       "      <th>1</th>\n",
       "      <td>Albania</td>\n",
       "      <td>133211</td>\n",
       "      <td>2457</td>\n",
       "      <td>2930187</td>\n",
       "      <td>28748.0</td>\n",
       "      <td>71.6</td>\n",
       "      <td>None</td>\n",
       "      <td>Europe</td>\n",
       "      <td>AL</td>\n",
       "      <td>Southern Europe</td>\n",
       "      <td>8</td>\n",
       "      <td>Tirana</td>\n",
       "      <td>4.546160</td>\n",
       "      <td>0.083851</td>\n",
       "    </tr>\n",
       "    <tr>\n",
       "      <th>2</th>\n",
       "      <td>Algeria</td>\n",
       "      <td>175229</td>\n",
       "      <td>4370</td>\n",
       "      <td>41318142</td>\n",
       "      <td>2381741.0</td>\n",
       "      <td>69.7</td>\n",
       "      <td>800</td>\n",
       "      <td>Africa</td>\n",
       "      <td>DZ</td>\n",
       "      <td>Northern Africa</td>\n",
       "      <td>12</td>\n",
       "      <td>Alger</td>\n",
       "      <td>0.424097</td>\n",
       "      <td>0.010576</td>\n",
       "    </tr>\n",
       "    <tr>\n",
       "      <th>3</th>\n",
       "      <td>Andorra</td>\n",
       "      <td>14766</td>\n",
       "      <td>128</td>\n",
       "      <td>76965</td>\n",
       "      <td>468.0</td>\n",
       "      <td>83.5</td>\n",
       "      <td>1,996</td>\n",
       "      <td>Europe</td>\n",
       "      <td>AD</td>\n",
       "      <td>Southern Europe</td>\n",
       "      <td>20</td>\n",
       "      <td>Andorra la Vella</td>\n",
       "      <td>19.185344</td>\n",
       "      <td>0.166309</td>\n",
       "    </tr>\n",
       "    <tr>\n",
       "      <th>4</th>\n",
       "      <td>Angola</td>\n",
       "      <td>43070</td>\n",
       "      <td>1022</td>\n",
       "      <td>29784193</td>\n",
       "      <td>1246700.0</td>\n",
       "      <td>38.3</td>\n",
       "      <td>1,112</td>\n",
       "      <td>Africa</td>\n",
       "      <td>AO</td>\n",
       "      <td>Central Africa</td>\n",
       "      <td>24</td>\n",
       "      <td>Luanda</td>\n",
       "      <td>0.144607</td>\n",
       "      <td>0.003431</td>\n",
       "    </tr>\n",
       "  </tbody>\n",
       "</table>\n",
       "</div>"
      ],
      "text/plain": [
       "       country  confirmed  deaths  population  sq_km_area  life_expectancy  \\\n",
       "0  Afghanistan     148572    6804    35530081    652090.0             45.9   \n",
       "1      Albania     133211    2457     2930187     28748.0             71.6   \n",
       "2      Algeria     175229    4370    41318142   2381741.0             69.7   \n",
       "3      Andorra      14766     128       76965       468.0             83.5   \n",
       "4       Angola      43070    1022    29784193   1246700.0             38.3   \n",
       "\n",
       "  elevation_in_meters continent abbreviation                   location iso  \\\n",
       "0                None      Asia           AF  Southern and Central Asia   4   \n",
       "1                None    Europe           AL            Southern Europe   8   \n",
       "2                 800    Africa           DZ            Northern Africa  12   \n",
       "3               1,996    Europe           AD            Southern Europe  20   \n",
       "4               1,112    Africa           AO             Central Africa  24   \n",
       "\n",
       "       capital_city  percentage_confirmed_%  percentage_deaths_%  \n",
       "0             Kabul                0.418158             0.019150  \n",
       "1            Tirana                4.546160             0.083851  \n",
       "2             Alger                0.424097             0.010576  \n",
       "3  Andorra la Vella               19.185344             0.166309  \n",
       "4            Luanda                0.144607             0.003431  "
      ]
     },
     "execution_count": 17,
     "metadata": {},
     "output_type": "execute_result"
    }
   ],
   "source": [
    "country_case_df.head()"
   ]
  },
  {
   "cell_type": "code",
   "execution_count": 18,
   "metadata": {
    "scrolled": false
   },
   "outputs": [
    {
     "data": {
      "image/png": "[encoded data removed]",
      "text/plain": [
       "<Figure size 432x288 with 1 Axes>"
      ]
     },
     "metadata": {},
     "output_type": "display_data"
    }
   ],
   "source": [
    "# Generate a pie plot showing the distribution of confirmed cases in different continents\n",
    "continent_data = country_case_df.groupby('continent').agg(total = ('confirmed','sum'))\n",
    "continent_data.plot.pie(y='total',autopct = '%1.1f%%',legend=False)\n",
    "plt.title('Distribution of confirmed cases in different continents')\n",
    "plt.axis('equal')\n",
    "plt.show()"
   ]
  },
  {
   "cell_type": "code",
   "execution_count": 19,
   "metadata": {},
   "outputs": [],
   "source": [
    "country_case_df.to_csv('country_case_df.csv')"
   ]
  },
  {
   "cell_type": "code",
   "execution_count": null,
   "metadata": {},
   "outputs": [],
   "source": []
  }
 ],
 "metadata": {
  "kernelspec": {
   "display_name": "Python 3",
   "language": "python",
   "name": "python3"
  },
  "language_info": {
   "codemirror_mode": {
    "name": "ipython",
    "version": 3
   },
   "file_extension": ".py",
   "mimetype": "text/x-python",
   "name": "python",
   "nbconvert_exporter": "python",
   "pygments_lexer": "ipython3",
   "version": "3.7.6"
  }
 },
 "nbformat": 4,
 "nbformat_minor": 5
}
