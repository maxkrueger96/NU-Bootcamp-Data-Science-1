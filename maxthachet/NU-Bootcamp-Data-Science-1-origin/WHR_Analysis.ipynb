{
 "cells": [
  {
   "cell_type": "code",
   "execution_count": 62,
   "source": [
    "import matplotlib.pyplot as plt\n",
    "import pandas as pd\n",
    "import scipy.stats as st\n",
    "import numpy as np\n",
    "import os\n",
    "\n",
    "WHR2020 = \"./WHR2020_Data.csv\"\n",
    "WHR2021 = \"./WHR2020_Data.csv\"\n",
    "\n",
    "data20 = pd.read_csv(WHR2020)\n",
    "data20 = data20.set_index('Country name')\n",
    "data21 = pd.read_csv(WHR2021)\n",
    "data21 = data21.set_index('Country name')\n",
    "\n",
    "by_region20 = data20.groupby(by = 'Regional indicator')\n",
    "by_region21 = data21.groupby(by = 'Regional indicator')\n",
    "\n",
    "region_list = data20['Regional indicator'].drop_duplicates().to_list()\n",
    "region_density20 = data20['Regional indicator'].value_counts()\n",
    "region_density21 = data21['Regional indicator'].value_counts()\n",
    "\n",
    "ladder_stats20 = by_region20['Ladder score'].agg(['mean', 'min', 'max', 'median', 'var', 'std', 'sem', 'skew'])\n",
    "ladder_stats21 = by_region21['Ladder score'].agg(['mean', 'min', 'max', 'median', 'var', 'std', 'sem', 'skew'])\n",
    "\n",
    "#GDP and Corruptiopn\n",
    "#Freedom and corruption\n",
    "#social support and generositt\n",
    "#ladder and life exp\n",
    "\n",
    "data20['Logged GDP per capita']\n",
    "\n"
   ],
   "outputs": [
    {
     "output_type": "execute_result",
     "data": {
      "text/plain": [
       "Index(['Regional indicator', 'Ladder score', 'Standard error of ladder score',\n",
       "       'upperwhisker', 'lowerwhisker', 'Logged GDP per capita',\n",
       "       'Social support', 'Healthy life expectancy',\n",
       "       'Freedom to make life choices', 'Generosity',\n",
       "       'Perceptions of corruption', 'Ladder score in Dystopia',\n",
       "       'Explained by: Log GDP per capita', 'Explained by: Social support',\n",
       "       'Explained by: Healthy life expectancy',\n",
       "       'Explained by: Freedom to make life choices',\n",
       "       'Explained by: Generosity', 'Explained by: Perceptions of corruption',\n",
       "       'Dystopia + residual'],\n",
       "      dtype='object')"
      ]
     },
     "metadata": {},
     "execution_count": 62
    }
   ],
   "metadata": {}
  }
 ],
 "metadata": {
  "kernelspec": {
   "name": "python3",
   "display_name": "Python 3.8.8 64-bit ('base': conda)"
  },
  "language_info": {
   "codemirror_mode": {
    "name": "ipython",
    "version": 3
   },
   "file_extension": ".py",
   "mimetype": "text/x-python",
   "name": "python",
   "nbconvert_exporter": "python",
   "pygments_lexer": "ipython3",
   "version": "3.8.8"
  },
  "interpreter": {
   "hash": "3056ff0f1845929a8989f1bded2e103b0e50e44d85bf2567aa5138af1ce355cd"
  }
 },
 "nbformat": 4,
 "nbformat_minor": 5
}